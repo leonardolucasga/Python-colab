{
  "nbformat": 4,
  "nbformat_minor": 0,
  "metadata": {
    "colab": {
      "provenance": [],
      "authorship_tag": "ABX9TyPD54uiPQSejTunxcaMlpg4",
      "include_colab_link": true
    },
    "kernelspec": {
      "name": "python3",
      "display_name": "Python 3"
    },
    "language_info": {
      "name": "python"
    }
  },
  "cells": [
    {
      "cell_type": "markdown",
      "metadata": {
        "id": "view-in-github",
        "colab_type": "text"
      },
      "source": [
        "<a href=\"https://colab.research.google.com/github/leonardolucasga/Python-colab/blob/main/Bingo_complete.ipynb\" target=\"_parent\"><img src=\"https://colab.research.google.com/assets/colab-badge.svg\" alt=\"Open In Colab\"/></a>"
      ]
    },
    {
      "cell_type": "markdown",
      "source": [
        "Projeto que tem como inspiração o Programa \"Pernambuco da Sorte\", onde busca premiar as cartelas que completam as primeiras 24 dezenas sorteadas."
      ],
      "metadata": {
        "id": "sUpXbzfKfalI"
      }
    },
    {
      "cell_type": "code",
      "execution_count": null,
      "metadata": {
        "id": "iy5Nxl76YXT3"
      },
      "outputs": [],
      "source": [
        "import random\n",
        "\n",
        "def gerar_cartelas(qtd_cartelas):\n",
        "    cartelas = []\n",
        "    numeros = list(range(1, 61))\n",
        "    for _ in range(qtd_cartelas):\n",
        "        random.shuffle(numeros) #funcao de embaralhamento de forma imprevisivel\n",
        "        cartela = numeros[:24]\n",
        "        cartelas.append(cartela)\n",
        "    return cartelas\n",
        "\n",
        "def mostrar_cartelas(cartelas):\n",
        "    for i, cartela in enumerate(cartelas):\n",
        "        print(f\"Cartela {i+1}:\")\n",
        "        for j in range(0, 24, 6):\n",
        "            print(cartela[j:j+6])\n",
        "        print()\n",
        "\n",
        "def sortear_numeros():\n",
        "    numeros_sorteados = random.sample(range(1, 61), 60) # random.sample retornará todos os elementos da sequência, em ordem aleatória, sem repetições.\n",
        "    for numero in numeros_sorteados:\n",
        "        print(f\"Último Número sorteado: {numero}\")\n",
        "        yield numero\n",
        "        # yield = função especial que pode ser interrompida temporariamente e depois retomada\n",
        "        #a partir do ponto em que parou, permitindo a geração de valores sob demanda ou até que a função seja concluída.\n",
        "\n",
        "def classificar_cartelas(cartelas, numeros_sorteados):\n",
        "    classificacao = []\n",
        "    for i, cartela in enumerate(cartelas):\n",
        "        acertos = sum(numero in cartela for numero in numeros_sorteados)\n",
        "        classificacao.append((i+1, acertos))\n",
        "    classificacao.sort(key=lambda x: x[1], reverse=True)\n",
        "    return classificacao\n",
        "\n",
        "def jogar_bingo(qtd_cartelas):\n",
        "    cartelas = gerar_cartelas(qtd_cartelas)\n",
        "    mostrar_cartelas(cartelas)\n",
        "\n",
        "    numeros_sorteados = []\n",
        "    sorteio = sortear_numeros()\n",
        "    contador = 0\n",
        "    while True:\n",
        "        numero_sorteado = next(sorteio)\n",
        "        numeros_sorteados.append(numero_sorteado)\n",
        "        contador += 1\n",
        "        classificacao = classificar_cartelas(cartelas, numeros_sorteados)\n",
        "        print(\"\\nClassificação:\")\n",
        "        pontuacao_maxima = classificacao[0][1]\n",
        "        ganhadores = []\n",
        "        for i, (cartela_num, acertos) in enumerate(classificacao):\n",
        "            if acertos == pontuacao_maxima:\n",
        "                ganhadores.append((cartela_num, acertos))\n",
        "            print(f\"{i+1}º lugar: Cartela {cartela_num} - {acertos} acertos\")\n",
        "        if pontuacao_maxima == 24:\n",
        "            print(\"\\nBINGO! Os jogadores venceram:\")\n",
        "            for ganhador in ganhadores:\n",
        "                print(f\"Jogador {ganhador[0]} - {ganhador[1]} acertos\")\n",
        "            break\n",
        "        print(f\"Número sorteado: {numero_sorteado} (Dezenas sorteadas: {contador})\")\n",
        "        input(\"Pressione Enter para sortear o próximo número...\")\n",
        "\n",
        "\n",
        "jogar_bingo(1220) #Parametro para número de Cartelas.\n",
        "\n",
        "\n"
      ]
    },
    {
      "cell_type": "markdown",
      "source": [],
      "metadata": {
        "id": "YMTueXYGfZeM"
      }
    }
  ]
}