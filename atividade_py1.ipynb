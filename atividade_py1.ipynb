{
  "nbformat": 4,
  "nbformat_minor": 0,
  "metadata": {
    "colab": {
      "provenance": [],
      "authorship_tag": "ABX9TyPBu0+jAVdl2IRh6xepQUPq",
      "include_colab_link": true
    },
    "kernelspec": {
      "name": "python3",
      "display_name": "Python 3"
    },
    "language_info": {
      "name": "python"
    }
  },
  "cells": [
    {
      "cell_type": "markdown",
      "metadata": {
        "id": "view-in-github",
        "colab_type": "text"
      },
      "source": [
        "<a href=\"https://colab.research.google.com/github/leonardolucasga/Python-colab/blob/main/atividade_py1.ipynb\" target=\"_parent\"><img src=\"https://colab.research.google.com/assets/colab-badge.svg\" alt=\"Open In Colab\"/></a>"
      ]
    },
    {
      "cell_type": "markdown",
      "source": [
        "1. Faça um CÓDIGO que mostre a mensagem \"Olá ETE CÍCERO DIAS!\" na tela."
      ],
      "metadata": {
        "id": "uBPIzxgixRd2"
      }
    },
    {
      "cell_type": "code",
      "source": [
        "print(\"Olá ETE CÍCERO DIAS\")"
      ],
      "metadata": {
        "colab": {
          "base_uri": "https://localhost:8080/"
        },
        "id": "bfyiba_QxRRV",
        "outputId": "bf1fe07a-e732-42d7-c319-f3d8d804fb0a"
      },
      "execution_count": null,
      "outputs": [
        {
          "output_type": "stream",
          "name": "stdout",
          "text": [
            "Olá ETE CÍCERO DIAS\n"
          ]
        }
      ]
    },
    {
      "cell_type": "markdown",
      "source": [
        "2. Faça um CÓDIGO que peça um número e então mostre a mensagem O número informado foi [número]."
      ],
      "metadata": {
        "id": "HYuguFbqxjf_"
      }
    },
    {
      "cell_type": "code",
      "source": [
        "numero = input(\"Digite um número: \")\n",
        "print(\"O número informado foi\", numero)\n"
      ],
      "metadata": {
        "id": "620976aqxieG"
      },
      "execution_count": null,
      "outputs": []
    },
    {
      "cell_type": "markdown",
      "source": [
        "3. Faça um CÓDIGO que peça dois números e imprima a soma."
      ],
      "metadata": {
        "id": "3QlaYbvLyKNl"
      }
    },
    {
      "cell_type": "code",
      "source": [
        "n1 = int(input(\"Digite o primeiro número: \"))\n",
        "n2 = int(input(\"Digite o segundo número: \"))\n",
        "soma = (n1+n2)\n",
        "print(\"A soma entre os numeros é:\", soma)"
      ],
      "metadata": {
        "colab": {
          "base_uri": "https://localhost:8080/"
        },
        "id": "0vB0kTHZyJku",
        "outputId": "de3614b8-eb39-444d-df29-09a7ddcbccb0"
      },
      "execution_count": null,
      "outputs": [
        {
          "output_type": "stream",
          "name": "stdout",
          "text": [
            "Digite o primeiro número: 25\n",
            "Digite o segundo número: 30\n",
            "A soma entre os numeros é: 55\n"
          ]
        }
      ]
    },
    {
      "cell_type": "markdown",
      "source": [
        "4. Faça um CÓDIGO que peça as 4 notas bimestrais e mostre a média final.\n"
      ],
      "metadata": {
        "id": "kerbfWDCzqVQ"
      }
    },
    {
      "cell_type": "code",
      "source": [
        "nota1 = float(input(\"Digite a primeira nota: \"))\n",
        "nota2 = float(input(\"Digite a seguda nota: \"))\n",
        "nota3 = float(input(\"Digite a terceira nota: \"))\n",
        "nota4 = float(input(\"Digite a quarta nota: \"))\n",
        "\n",
        "media = (nota1+nota2+nota3+nota4)/4\n",
        "\n",
        "print(\"A media entre as notas é:\", media)\n"
      ],
      "metadata": {
        "colab": {
          "base_uri": "https://localhost:8080/"
        },
        "id": "h7IJ3413ziub",
        "outputId": "9a08d5fb-98d6-481e-b7c0-5eda4d39d72e"
      },
      "execution_count": null,
      "outputs": [
        {
          "output_type": "stream",
          "name": "stdout",
          "text": [
            "Digite a primeira nota: 7.5\n",
            "Digite a seguda nota: 10.0\n",
            "Digite a terceira nota: 9.8\n",
            "Digite a quarta nota: 8.3\n",
            "A media entre as notas é: 8.9\n"
          ]
        }
      ]
    },
    {
      "cell_type": "markdown",
      "source": [
        "5. Faça um CÓDIGO que converta metros para centímetros.\n"
      ],
      "metadata": {
        "id": "-67u-iFq0wB-"
      }
    },
    {
      "cell_type": "code",
      "source": [
        "metros = float(input(\"Digite o valor em metros: \"))\n",
        "centimetros = metros * 100\n",
        "print(\"O valor em centímetros é:\", centimetros)\n"
      ],
      "metadata": {
        "colab": {
          "base_uri": "https://localhost:8080/"
        },
        "id": "pkYokvBA0r5o",
        "outputId": "5b09a54f-aabf-4801-eba4-30b7cf51bf97"
      },
      "execution_count": null,
      "outputs": [
        {
          "output_type": "stream",
          "name": "stdout",
          "text": [
            "Digite o valor em metros: 20\n",
            "O valor em centímetros é: 2000.0\n"
          ]
        }
      ]
    },
    {
      "cell_type": "markdown",
      "source": [],
      "metadata": {
        "id": "GfGePkHl1MPm"
      }
    },
    {
      "cell_type": "markdown",
      "source": [
        "6. Faça um CÓDIGO que peça o raio de um círculo, calcule e mostre sua área.\n"
      ],
      "metadata": {
        "id": "amEnjC6M1OgO"
      }
    },
    {
      "cell_type": "code",
      "source": [
        "import math\n",
        "\n",
        "raio = float(input(\"Digite o raio do círculo: \"))\n",
        "area = math.pi * raio ** 2\n",
        "print(\"A área do círculo é:\", area)\n"
      ],
      "metadata": {
        "id": "zyYV1cYt1Ld4"
      },
      "execution_count": null,
      "outputs": []
    },
    {
      "cell_type": "markdown",
      "source": [
        "7. Faça um CÓDIGO que calcule a área de um quadrado, em seguida mostre o dobro desta área para o usuário."
      ],
      "metadata": {
        "id": "7gjM0iCr1jRH"
      }
    },
    {
      "cell_type": "code",
      "source": [
        "lado = float(input(\"Digite o valor do lado do quadrado: \"))\n",
        "area = lado ** 2\n",
        "dobro_area = 2 * area\n",
        "print(\"A área do quadrado é:\", area)\n",
        "print(\"O dobro da área do quadrado é:\", dobro_area)\n"
      ],
      "metadata": {
        "colab": {
          "base_uri": "https://localhost:8080/"
        },
        "id": "YhRfO04u1iT4",
        "outputId": "48cc432c-0c00-44a3-ccac-9b52b27fd139"
      },
      "execution_count": null,
      "outputs": [
        {
          "output_type": "stream",
          "name": "stdout",
          "text": [
            "Digite o valor do lado do quadrado: 4\n",
            "A área do quadrado é: 16.0\n",
            "O dobro da área do quadrado é: 32.0\n"
          ]
        }
      ]
    },
    {
      "cell_type": "markdown",
      "source": [
        "8. Faça um CÓDIGO que pergunte quanto você ganha por hora e o número de horas trabalhadas no mês. Calcule e mostre o total do seu salário no referido mês.\n"
      ],
      "metadata": {
        "id": "1m_8dF96183T"
      }
    },
    {
      "cell_type": "code",
      "source": [
        "valor_hora = float(input(\"Digite o valor do salário por hora: \"))\n",
        "horas_trabalhadas = float(input(\"Digite o número de horas trabalhadas no mês: \"))\n",
        "\n",
        "salario_mensal = valor_hora * horas_trabalhadas\n",
        "\n",
        "print(\"O total do seu salário no mês é:\", salario_mensal)\n"
      ],
      "metadata": {
        "id": "sO1oZKp115TA"
      },
      "execution_count": null,
      "outputs": []
    },
    {
      "cell_type": "markdown",
      "source": [
        "9. Faça um CÓDIGO que peça um valor e mostre na tela se o valor é positivo ou negativo.\n"
      ],
      "metadata": {
        "id": "lwROzSFu2a0z"
      }
    },
    {
      "cell_type": "code",
      "source": [
        "valor = float(input(\"Digite um valor: \"))\n",
        "\n",
        "if valor > 0:\n",
        "    print(\"O valor é positivo.\")\n",
        "elif valor < 0:\n",
        "    print(\"O valor é negativo.\")\n",
        "else:\n",
        "    print(\"O valor é zero.\")\n"
      ],
      "metadata": {
        "id": "P21haTOy2W5f"
      },
      "execution_count": null,
      "outputs": []
    },
    {
      "cell_type": "markdown",
      "source": [
        "10. Faça um CÓDIGO que verifique se uma letra digitada é \"F\" ou \"M\". Conforme a letra escrever: F - Feminino, M - Masculino, Sexo Inválido."
      ],
      "metadata": {
        "id": "Hd8wp0AB3GE4"
      }
    },
    {
      "cell_type": "code",
      "source": [
        "letra = input(\"Digite a letra correspondente ao gênero (F ou M): \")\n",
        "\n",
        "if letra == \"F\" or letra == \"f\":\n",
        "    print(\"Feminino\")\n",
        "elif letra == \"M\" or letra == \"m\":\n",
        "    print(\"Masculino\")\n",
        "else:\n",
        "    print(\"Sexo Inválido\")\n"
      ],
      "metadata": {
        "id": "NI5RtYco29v6"
      },
      "execution_count": null,
      "outputs": []
    }
  ]
}